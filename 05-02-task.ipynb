{
 "cells": [
  {
   "cell_type": "markdown",
   "metadata": {},
   "source": [
    "## Неделя 2. Вторник"
   ]
  },
  {
   "cell_type": "markdown",
   "metadata": {},
   "source": [
    "### Numpy. Часть 2"
   ]
  },
  {
   "cell_type": "code",
   "execution_count": 1,
   "metadata": {},
   "outputs": [],
   "source": [
    "import numpy as np\n",
    "import pandas as pd\n",
    "import matplotlib.pyplot as plt\n",
    "import seaborn as sns\n",
    "import matplotlib.pyplot as plt\n",
    "\n",
    "from sklearn.datasets import load_iris # pip install scikit-learn\n",
    "from sklearn.decomposition import TruncatedSVD, PCA\n",
    "__great__ = 'Все круто!'"
   ]
  },
  {
   "cell_type": "markdown",
   "metadata": {},
   "source": [
    "### 1.PCA"
   ]
  },
  {
   "cell_type": "markdown",
   "metadata": {},
   "source": [
    "* Ниже приведен датасетзависимости роста и веса человека. "
   ]
  },
  {
   "cell_type": "code",
   "execution_count": 7,
   "metadata": {},
   "outputs": [],
   "source": [
    "df = pd.read_csv('/Users/irinaevseeva/DS_bootcamp/week_5/weight-height.csv')"
   ]
  },
  {
   "cell_type": "markdown",
   "metadata": {},
   "source": [
    "__1.1__ Постройте scatterplot данной зависимости"
   ]
  },
  {
   "cell_type": "code",
   "execution_count": 13,
   "metadata": {},
   "outputs": [
    {
     "ename": "AttributeError",
     "evalue": "module 'seaborn' has no attribute 'replot'",
     "output_type": "error",
     "traceback": [
      "\u001b[0;31m---------------------------------------------------------------------------\u001b[0m",
      "\u001b[0;31mAttributeError\u001b[0m                            Traceback (most recent call last)",
      "Cell \u001b[0;32mIn[13], line 8\u001b[0m\n\u001b[1;32m      1\u001b[0m \u001b[38;5;66;03m# plt.figure(figsize=(8, 6))\u001b[39;00m\n\u001b[1;32m      2\u001b[0m \u001b[38;5;66;03m# sns.scatterplot(x=df['Height'], y=df['Weight'], alpha=0.5)\u001b[39;00m\n\u001b[1;32m      3\u001b[0m \n\u001b[1;32m      4\u001b[0m \u001b[38;5;66;03m# plt.title(\"Scatter Plot of Height vs Weight\")\u001b[39;00m\n\u001b[1;32m      5\u001b[0m \u001b[38;5;66;03m# plt.grid(True)\u001b[39;00m\n\u001b[1;32m      6\u001b[0m \u001b[38;5;66;03m# plt.show()\u001b[39;00m\n\u001b[0;32m----> 8\u001b[0m \u001b[43msns\u001b[49m\u001b[38;5;241;43m.\u001b[39;49m\u001b[43mreplot\u001b[49m(x\u001b[38;5;241m=\u001b[39m\u001b[38;5;124m'\u001b[39m\u001b[38;5;124mHeight\u001b[39m\u001b[38;5;124m'\u001b[39m, y \u001b[38;5;241m=\u001b[39m \u001b[38;5;124m'\u001b[39m\u001b[38;5;124mWeight\u001b[39m\u001b[38;5;124m'\u001b[39m, hue \u001b[38;5;241m=\u001b[39m \u001b[38;5;124m'\u001b[39m\u001b[38;5;124mGender\u001b[39m\u001b[38;5;124m'\u001b[39m, data\u001b[38;5;241m=\u001b[39mdf)\n",
      "\u001b[0;31mAttributeError\u001b[0m: module 'seaborn' has no attribute 'replot'"
     ]
    }
   ],
   "source": [
    "# plt.figure(figsize=(8, 6))\n",
    "# sns.scatterplot(x=df['Height'], y=df['Weight'], alpha=0.5)\n",
    "\n",
    "# plt.title(\"Scatter Plot of Height vs Weight\")\n",
    "# plt.grid(True)\n",
    "# plt.show()\n",
    "\n",
    "sns.replot(x='Height', y = 'Weight', hue = 'Gender', data=df)"
   ]
  },
  {
   "cell_type": "markdown",
   "metadata": {},
   "source": [
    "* Ответьте на вопрос, есть ли линейная зависимость данных(коллинеарность)\n",
    "> Линейная зависимость есть"
   ]
  },
  {
   "cell_type": "markdown",
   "metadata": {},
   "source": [
    "__1.2__ Сделайте понижение размерности с помощью [pca](https://scikit-learn.org/stable/modules/generated/sklearn.decomposition.PCA.html)(principal component analysis)"
   ]
  },
  {
   "cell_type": "code",
   "execution_count": 14,
   "metadata": {},
   "outputs": [
    {
     "ename": "NameError",
     "evalue": "name 'StandardScaler' is not defined",
     "output_type": "error",
     "traceback": [
      "\u001b[0;31m---------------------------------------------------------------------------\u001b[0m",
      "\u001b[0;31mNameError\u001b[0m                                 Traceback (most recent call last)",
      "Cell \u001b[0;32mIn[14], line 4\u001b[0m\n\u001b[1;32m      1\u001b[0m features \u001b[38;5;241m=\u001b[39m [\u001b[38;5;124m'\u001b[39m\u001b[38;5;124mHeight\u001b[39m\u001b[38;5;124m'\u001b[39m, \u001b[38;5;124m'\u001b[39m\u001b[38;5;124mWeight\u001b[39m\u001b[38;5;124m'\u001b[39m]\n\u001b[1;32m      2\u001b[0m X \u001b[38;5;241m=\u001b[39m df[features]\n\u001b[0;32m----> 4\u001b[0m scaler \u001b[38;5;241m=\u001b[39m \u001b[43mStandardScaler\u001b[49m()\n\u001b[1;32m      5\u001b[0m X_scaled \u001b[38;5;241m=\u001b[39m scaler\u001b[38;5;241m.\u001b[39mfit_transform(X)\n\u001b[1;32m      7\u001b[0m pca \u001b[38;5;241m=\u001b[39m PCA(n_components\u001b[38;5;241m=\u001b[39m\u001b[38;5;241m2\u001b[39m)\n",
      "\u001b[0;31mNameError\u001b[0m: name 'StandardScaler' is not defined"
     ]
    }
   ],
   "source": [
    "features = ['Height', 'Weight']\n",
    "X = df[features]\n",
    "\n",
    "scaler = StandardScaler()\n",
    "X_scaled = scaler.fit_transform(X)\n",
    "\n",
    "pca = PCA(n_components=2)\n",
    "X_pca = pca.fit_transform(X_scaled)\n",
    "\n",
    "df_pca = pd.DataFrame(X_pca, columns=['PC1', 'PC2'])\n",
    "\n",
    "plt.figure(figsize=(8, 6))\n",
    "sns.scatterplot(x=df_pca['PC1'], y=df_pca['PC2'], alpha=0.5)\n",
    "plt.xlabel(\"Principal Component 1\")\n",
    "plt.ylabel(\"Principal Component 2\")\n",
    "plt.title(\"PCA: Reduced Dimensions Scatter Plot\")\n",
    "plt.grid(True)\n",
    "plt.show()"
   ]
  },
  {
   "cell_type": "markdown",
   "metadata": {},
   "source": [
    "__1.3__ Отобразите, сколько процентов информации вы при этом сохранили"
   ]
  },
  {
   "cell_type": "code",
   "execution_count": 8,
   "metadata": {},
   "outputs": [],
   "source": [
    "# your code"
   ]
  },
  {
   "cell_type": "markdown",
   "metadata": {},
   "source": [
    "__1.4.__ Удовлетворителен ли результат?\n",
    "\n",
    "> ответ тут"
   ]
  },
  {
   "cell_type": "markdown",
   "metadata": {},
   "source": [
    "__1.5__ Попробуйте подгрузить свой обработанный датасет с проектом по циан. И проверить его на мультиколлинеарность с помощью _pca_."
   ]
  },
  {
   "cell_type": "markdown",
   "metadata": {},
   "source": [
    "### 2.SVD"
   ]
  },
  {
   "cell_type": "markdown",
   "metadata": {},
   "source": [
    "2.1 Для тех, кто уже сделал все. Можно попробовать ощутить прелесть SVD в Изображениях :)\n",
    "1. Выберите любую черно-белую картинку\n",
    "2. Подгрузите ее в питон.\n",
    "3. Посмотрите, какого у вас размера матрица изображения\n",
    "4. Отобразите изображение в питоне\n",
    "5. Разложите матрицу по SVD, как в нашем примере из лекции сегодня\n",
    "6. Выберите топ k сингулярных чисел и схлопните матрицу обратно\n",
    "7. Посмотрите результат\n",
    "8. Выберите минимальный k при котором картинка еще все так же различима\n",
    "9. Какую долю этот k составляет от всех сингулярных чисел\n",
    "10. Обернуть в стримлит-приложение, с интерфейсом, в котором пользователь может подгрузить свою картинку и выбрать ко-во сингулярных чисел. В ответ получить сжатый вариант"
   ]
  },
  {
   "cell_type": "markdown",
   "metadata": {},
   "source": [
    "#### 3. Продолжение закрепления NumPy"
   ]
  },
  {
   "cell_type": "markdown",
   "metadata": {},
   "source": [
    "__3.1__ Создайте массив из 20 нулей и замените 0-е, 5-е, 10-е, 15-е значения на 999"
   ]
  },
  {
   "cell_type": "code",
   "execution_count": null,
   "metadata": {},
   "outputs": [],
   "source": [
    "res = np.array([999., 0., 0., 0., 0., \n",
    "                999., 0., 0., 0., 0., \n",
    "                999., 0., 0., 0., 0., \n",
    "                999., 0., 0., 0., 0.])\n",
    "\n",
    "# ваш код:\n",
    "zeros = None"
   ]
  },
  {
   "cell_type": "code",
   "execution_count": null,
   "metadata": {},
   "outputs": [],
   "source": [
    "# проверка должна выдать True и тогда print выдаст своё сообщение\n",
    "assert np.allclose(zeros, res)\n",
    "print(__great__)"
   ]
  },
  {
   "cell_type": "markdown",
   "metadata": {},
   "source": [
    "__3.2__ Посчитайте минимум и максимум по строкам"
   ]
  },
  {
   "cell_type": "code",
   "execution_count": null,
   "metadata": {},
   "outputs": [],
   "source": [
    "x = np.arange(4).reshape((2, 2))"
   ]
  },
  {
   "cell_type": "code",
   "execution_count": null,
   "metadata": {},
   "outputs": [],
   "source": [
    "# ваш код\n",
    "# представьте результат для максимума с сохранением исходной размерности массива\n",
    "x_min = None\n",
    "x_max = None"
   ]
  },
  {
   "cell_type": "code",
   "execution_count": null,
   "metadata": {},
   "outputs": [],
   "source": [
    "# проверка\n",
    "\n",
    "assert np.allclose(x_min, np.array([0, 2]))\n",
    "assert np.allclose(x_max, np.array([[1], [3]])) \n",
    "\n",
    "print(__great__)"
   ]
  },
  {
   "cell_type": "markdown",
   "metadata": {},
   "source": [
    "❓Посмотрите на результат выполнения функции `np.allclose` в 0 и 1 заданиях. Что она делает?\n",
    "\n",
    "> ответ тут"
   ]
  },
  {
   "cell_type": "markdown",
   "metadata": {},
   "source": [
    "__3.3__ Посчитайте 75-й перцентиль по строкам."
   ]
  },
  {
   "cell_type": "code",
   "execution_count": null,
   "metadata": {},
   "outputs": [],
   "source": [
    "x = np.arange(1, 11).reshape((2, 5))\n",
    "\n",
    "# ваш код\n",
    "print(x)\n",
    "\n",
    "percentile_75 = None"
   ]
  },
  {
   "cell_type": "code",
   "execution_count": null,
   "metadata": {},
   "outputs": [],
   "source": [
    "# проверка\n",
    "\n",
    "assert np.allclose(percentile_75, np.array([4., 9.]))\n",
    "\n",
    "print(__great__)"
   ]
  },
  {
   "cell_type": "markdown",
   "metadata": {},
   "source": [
    "__3.4__ Посчитайте двумя способами среднее взвешенное"
   ]
  },
  {
   "cell_type": "code",
   "execution_count": 3,
   "metadata": {},
   "outputs": [],
   "source": [
    "x = np.arange(5)\n",
    "weights = np.arange(1, 6) # веса"
   ]
  },
  {
   "cell_type": "code",
   "execution_count": null,
   "metadata": {},
   "outputs": [],
   "source": [
    "print(x)\n",
    "\n",
    "# ваш код\n",
    "res1 = 0\n",
    "res2 = 1\n",
    "\n",
    "assert np.allclose(res1, res2)\n",
    "print(__great__)"
   ]
  },
  {
   "cell_type": "markdown",
   "metadata": {},
   "source": [
    "__3.5__ Найдите среднее, стандартное отклонение (среднеквадратическое отклонение) и дисперсию"
   ]
  },
  {
   "cell_type": "code",
   "execution_count": null,
   "metadata": {},
   "outputs": [],
   "source": [
    "x = np.arange(1, 7)\n",
    "print(x)"
   ]
  },
  {
   "cell_type": "code",
   "execution_count": null,
   "metadata": {},
   "outputs": [],
   "source": [
    "# ваш код\n",
    "# посчитайте двумя способами каждое значение\n",
    "\n",
    "out1 = None\n",
    "out2 = None\n",
    "assert np.allclose(out1, out2)\n",
    "print(\"mean=\\n\", out1)\n",
    "\n",
    "out3 = None\n",
    "out4 = None\n",
    "assert np.allclose(out3, out4)\n",
    "print(\"std=\\n\", out3)\n",
    "\n",
    "out5 = None\n",
    "out6 = None\n",
    "assert np.allclose(out5, out6)\n",
    "print(\"variance=\\n\", out5)\n",
    "\n",
    "print(__great__)"
   ]
  },
  {
   "cell_type": "markdown",
   "metadata": {},
   "source": [
    "__3.6__ Создайте новый массив из исходного, путем повторения"
   ]
  },
  {
   "cell_type": "code",
   "execution_count": null,
   "metadata": {},
   "outputs": [],
   "source": [
    "x = np.array([[1, 2, 3], \n",
    "              [4, 5, 6], \n",
    "              [7, 8, 9]]) \n",
    "\n",
    "\n",
    "res = np.array([[1, 2, 3, 1, 2, 3, 1, 2, 3],\n",
    "                [4, 5, 6, 4, 5, 6, 4, 5, 6],\n",
    "                [7, 8, 9, 7, 8, 9, 7, 8, 9]])"
   ]
  },
  {
   "cell_type": "code",
   "execution_count": null,
   "metadata": {},
   "outputs": [],
   "source": [
    "# ваш код\n",
    "x3 = None"
   ]
  },
  {
   "cell_type": "code",
   "execution_count": null,
   "metadata": {},
   "outputs": [],
   "source": [
    "assert np.allclose(x3, res)\n",
    "print(__great__)"
   ]
  },
  {
   "cell_type": "markdown",
   "metadata": {},
   "source": [
    "__3.7__ Создайте из массива новый numpy массив уникальных значений и индексов"
   ]
  },
  {
   "cell_type": "markdown",
   "metadata": {},
   "source": [
    "Дан numpy массив (*оригинальный*) с несколькими повторяющимися значениями элементов. Нужно создать **новый** массив, который содержит только уникальные значения. А также массив индексов **нового** массива, который позволит воссоздать *оригинальный*."
   ]
  },
  {
   "cell_type": "code",
   "execution_count": null,
   "metadata": {},
   "outputs": [],
   "source": [
    "x = np.array([1, 2, 6, 4, 2, 3, 2])"
   ]
  },
  {
   "cell_type": "code",
   "execution_count": null,
   "metadata": {},
   "outputs": [],
   "source": [
    "# пример ответов\n",
    "unique_elements = np.array([1, 2, 3, 4, 6])\n",
    "reconstruction_indices = np.array([0, 1, 4, 3, 1, 2, 1])\n",
    "\n",
    "# ваш код\n",
    "\n",
    "# ...\n",
    "# unique_elements = \n",
    "# reconstruction_indices = \n",
    "\n",
    "\n",
    "assert np.allclose(unique_elements[reconstruction_indices], x)\n",
    "print(__great__)"
   ]
  },
  {
   "cell_type": "markdown",
   "metadata": {},
   "source": [
    "<img src=\"https://icons.iconarchive.com/icons/icons8/windows-8/256/Programming-Github-icon.png\" width=32 /> Пора сохранить изменения для __github__. \n",
    "\n",
    "1. Перейди в командной строке в папку, в которой расположен этот нотбук. \n",
    "2. Выполни команду `git add .`\n",
    "3. Выполни команду `git commit -m \"numpy tasks in progress\"`\n",
    "4. Выполни команду `git push`\n",
    "\n",
    "Выполни в ячейке ниже команду `!git status`"
   ]
  },
  {
   "cell_type": "markdown",
   "metadata": {},
   "source": [
    "__3.8__ Найдите \"разницу\" между двумя массивами"
   ]
  },
  {
   "cell_type": "code",
   "execution_count": null,
   "metadata": {},
   "outputs": [],
   "source": [
    "x = np.array([0, 1, 2, 5, 0])\n",
    "y = np.array([0, 1, 4])"
   ]
  },
  {
   "cell_type": "code",
   "execution_count": null,
   "metadata": {},
   "outputs": [],
   "source": [
    "res = np.array([2, 5])\n",
    "out = # ваш код\n",
    "\n",
    "assert np.allclose(res, out)\n",
    "print(__great__)"
   ]
  },
  {
   "cell_type": "markdown",
   "metadata": {},
   "source": [
    "__3.10__ Найдите разницу между каждым следующим элементом массива и предыдущм"
   ]
  },
  {
   "cell_type": "code",
   "execution_count": null,
   "metadata": {},
   "outputs": [],
   "source": [
    "x = np.array([1, 2, 4, 7, 0])\n",
    "diff = np.array([1, 2, 3, -7]) # 2-1, 4-2, 7-3, 0-7"
   ]
  },
  {
   "cell_type": "code",
   "execution_count": null,
   "metadata": {},
   "outputs": [],
   "source": [
    "# ваш код\n",
    "out = 0\n",
    "\n",
    "assert np.allclose(diff, out)\n",
    "print(__great__)"
   ]
  },
  {
   "cell_type": "markdown",
   "metadata": {},
   "source": [
    "<img src=\"https://icons.iconarchive.com/icons/icons8/windows-8/256/Programming-Github-icon.png\" width=32 /> Сохрани файл для __github__. \n",
    "\n",
    "1. Перейди в командной строке в папку, в которой расположен этот нотбук. \n",
    "2. Выполни команду `git add .`\n",
    "3. Выполни команду `git commit -m \"numpy2 tasks completed\"`\n",
    "4. Выполни команду `git push`"
   ]
  }
 ],
 "metadata": {
  "kernelspec": {
   "display_name": "test",
   "language": "python",
   "name": "python3"
  },
  "language_info": {
   "codemirror_mode": {
    "name": "ipython",
    "version": 3
   },
   "file_extension": ".py",
   "mimetype": "text/x-python",
   "name": "python",
   "nbconvert_exporter": "python",
   "pygments_lexer": "ipython3",
   "version": "3.9.21"
  }
 },
 "nbformat": 4,
 "nbformat_minor": 4
}
